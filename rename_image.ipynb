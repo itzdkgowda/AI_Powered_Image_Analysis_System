{
 "cells": [
  {
   "cell_type": "code",
   "execution_count": 14,
   "id": "0a69021c",
   "metadata": {},
   "outputs": [
    {
     "name": "stdout",
     "output_type": "stream",
     "text": [
      "Renamed 94 files to format: phone_001.jpg\n"
     ]
    }
   ],
   "source": [
    "import os\n",
    "\n",
    "def rename_images(folder_path, class_name):\n",
    "    files = [f for f in os.listdir(folder_path) if f.lower().endswith('.jpg')]\n",
    "    files.sort()\n",
    "    for idx, filename in enumerate(files, start=1):\n",
    "        new_name = f\"{class_name}_{idx:03d}.jpg\"\n",
    "        os.rename(os.path.join(folder_path, filename), os.path.join(folder_path, new_name))\n",
    "    print(f\"Renamed {len(files)} files to format: {class_name}_001.jpg\")\n",
    "\n",
    "rename_images(\"Dataset/images/Phone\", \"phone\")\n"
   ]
  },
  {
   "cell_type": "code",
   "execution_count": null,
   "id": "705e29c0",
   "metadata": {},
   "outputs": [
    {
     "name": "stdout",
     "output_type": "stream",
     "text": [
      "Renamed 101 files to format: mouse_001.jpg\n"
     ]
    }
   ],
   "source": [
    "def rename_images(folder_path, class_name):\n",
    "    files = [f for f in os.listdir(folder_path) if f.lower().endswith('.jpg')]\n",
    "    files.sort()  \n",
    "    for idx, filename in enumerate(files, start=1):\n",
    "        new_name = f\"{class_name}_{idx:03d}.jpg\"\n",
    "        os.rename(os.path.join(folder_path, filename), os.path.join(folder_path, new_name))\n",
    "    print(f\"Renamed {len(files)} files to format: {class_name}_001.jpg\")\n",
    "\n",
    "rename_images(\"Dataset/images/Mouse\", \"mouse\")\n"
   ]
  },
  {
   "cell_type": "code",
   "execution_count": null,
   "id": "927984d8",
   "metadata": {},
   "outputs": [
    {
     "name": "stdout",
     "output_type": "stream",
     "text": [
      "Renamed 108 files to format: plastic_Bottle_001.jpg\n"
     ]
    }
   ],
   "source": [
    "def rename_images(folder_path, class_name):\n",
    "    files = [f for f in os.listdir(folder_path) if f.lower().endswith('.jpg')]\n",
    "    files.sort() \n",
    "    for idx, filename in enumerate(files, start=1):\n",
    "        new_name = f\"{class_name}_{idx:03d}.jpg\"\n",
    "        os.rename(os.path.join(folder_path, filename), os.path.join(folder_path, new_name))\n",
    "    print(f\"Renamed {len(files)} files to format: {class_name}_001.jpg\")\n",
    "\n",
    "rename_images(\"Dataset/images/Plastic_Bottles\", \"plastic_Bottle\")\n"
   ]
  },
  {
   "cell_type": "code",
   "execution_count": 17,
   "id": "b24e37fc",
   "metadata": {},
   "outputs": [
    {
     "name": "stdout",
     "output_type": "stream",
     "text": [
      "Renamed 226 files to format: steel_Bottle_001.jpg\n"
     ]
    }
   ],
   "source": [
    "def rename_images(folder_path, class_name):\n",
    "    files = [f for f in os.listdir(folder_path) if f.lower().endswith('.jpg')]\n",
    "    files.sort() \n",
    "    for idx, filename in enumerate(files, start=1):\n",
    "        new_name = f\"{class_name}_{idx:03d}.jpg\"\n",
    "        os.rename(os.path.join(folder_path, filename), os.path.join(folder_path, new_name))\n",
    "    print(f\"Renamed {len(files)} files to format: {class_name}_001.jpg\")\n",
    "\n",
    "rename_images(\"Dataset/images/Steel_Bottles\", \"steel_Bottle\")\n"
   ]
  }
 ],
 "metadata": {
  "kernelspec": {
   "display_name": "base",
   "language": "python",
   "name": "python3"
  },
  "language_info": {
   "codemirror_mode": {
    "name": "ipython",
    "version": 3
   },
   "file_extension": ".py",
   "mimetype": "text/x-python",
   "name": "python",
   "nbconvert_exporter": "python",
   "pygments_lexer": "ipython3",
   "version": "3.11.7"
  }
 },
 "nbformat": 4,
 "nbformat_minor": 5
}
